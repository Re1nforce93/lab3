{
 "cells": [
  {
   "cell_type": "markdown",
   "id": "37f7333b",
   "metadata": {},
   "source": [
    "# Лабораторна робота \"Операції над масивами NumPy\"\n",
    "\n",
    "__Метою__ лабораторної роботи є набуття практичних навичок та закріплення теоретичних знань по обробці великих однорідних наборів даних які розташовані у вигляді масивів бібліотеки __NumPy__.\n",
    "\n",
    "Виконати послідовно завдання в секціях, попередню засвоївши наведені приклади\n",
    "В завданнях продовжити написання коду замість `...`. \n",
    "\n",
    "__Імена змінних в завданнях змінювати не можна!__"
   ]
  },
  {
   "cell_type": "markdown",
   "id": "cff5adf7",
   "metadata": {
    "heading_collapsed": true
   },
   "source": [
    "### Предвстановлення"
   ]
  },
  {
   "cell_type": "code",
   "execution_count": 8,
   "id": "3dc7e8d5",
   "metadata": {
    "hidden": true
   },
   "outputs": [],
   "source": [
    "# Імпортувати бібліотеку numpy з аліасом np\n",
    "import numpy as np"
   ]
  },
  {
   "cell_type": "code",
   "execution_count": 9,
   "id": "e7bd3f03",
   "metadata": {
    "code_folding": [],
    "hidden": true
   },
   "outputs": [
    {
     "data": {
      "text/html": [
       "<div>\n",
       "<style scoped>\n",
       "    .dataframe tbody tr th:only-of-type {\n",
       "        vertical-align: middle;\n",
       "    }\n",
       "\n",
       "    .dataframe tbody tr th {\n",
       "        vertical-align: top;\n",
       "    }\n",
       "\n",
       "    .dataframe thead th {\n",
       "        text-align: right;\n",
       "    }\n",
       "</style>\n",
       "<table border=\"1\" class=\"dataframe\">\n",
       "  <thead>\n",
       "    <tr style=\"text-align: right;\">\n",
       "      <th></th>\n",
       "      <th>Type</th>\n",
       "      <th>Type Code</th>\n",
       "    </tr>\n",
       "  </thead>\n",
       "  <tbody>\n",
       "    <tr>\n",
       "      <th>0</th>\n",
       "      <td>int8</td>\n",
       "      <td>i1</td>\n",
       "    </tr>\n",
       "    <tr>\n",
       "      <th>1</th>\n",
       "      <td>uint8</td>\n",
       "      <td>u1</td>\n",
       "    </tr>\n",
       "    <tr>\n",
       "      <th>2</th>\n",
       "      <td>int16</td>\n",
       "      <td>i2</td>\n",
       "    </tr>\n",
       "    <tr>\n",
       "      <th>3</th>\n",
       "      <td>uint16</td>\n",
       "      <td>u2</td>\n",
       "    </tr>\n",
       "    <tr>\n",
       "      <th>4</th>\n",
       "      <td>int32</td>\n",
       "      <td>i4</td>\n",
       "    </tr>\n",
       "    <tr>\n",
       "      <th>5</th>\n",
       "      <td>uint32</td>\n",
       "      <td>u4</td>\n",
       "    </tr>\n",
       "    <tr>\n",
       "      <th>6</th>\n",
       "      <td>int64</td>\n",
       "      <td>i8</td>\n",
       "    </tr>\n",
       "    <tr>\n",
       "      <th>7</th>\n",
       "      <td>uint64</td>\n",
       "      <td>u8</td>\n",
       "    </tr>\n",
       "    <tr>\n",
       "      <th>8</th>\n",
       "      <td>float16</td>\n",
       "      <td>f2</td>\n",
       "    </tr>\n",
       "    <tr>\n",
       "      <th>9</th>\n",
       "      <td>float32</td>\n",
       "      <td>f4 or f</td>\n",
       "    </tr>\n",
       "    <tr>\n",
       "      <th>10</th>\n",
       "      <td>float64</td>\n",
       "      <td>f8 or d</td>\n",
       "    </tr>\n",
       "    <tr>\n",
       "      <th>11</th>\n",
       "      <td>float128</td>\n",
       "      <td>f16 or g</td>\n",
       "    </tr>\n",
       "    <tr>\n",
       "      <th>12</th>\n",
       "      <td>complex64</td>\n",
       "      <td>c8</td>\n",
       "    </tr>\n",
       "    <tr>\n",
       "      <th>13</th>\n",
       "      <td>complex128</td>\n",
       "      <td>c16</td>\n",
       "    </tr>\n",
       "    <tr>\n",
       "      <th>14</th>\n",
       "      <td>bool</td>\n",
       "      <td></td>\n",
       "    </tr>\n",
       "    <tr>\n",
       "      <th>15</th>\n",
       "      <td>object</td>\n",
       "      <td>O</td>\n",
       "    </tr>\n",
       "    <tr>\n",
       "      <th>16</th>\n",
       "      <td>string_</td>\n",
       "      <td>S</td>\n",
       "    </tr>\n",
       "    <tr>\n",
       "      <th>17</th>\n",
       "      <td>unicode_</td>\n",
       "      <td>U</td>\n",
       "    </tr>\n",
       "  </tbody>\n",
       "</table>\n",
       "</div>"
      ],
      "text/plain": [
       "          Type Type Code\n",
       "0         int8        i1\n",
       "1        uint8        u1\n",
       "2        int16        i2\n",
       "3       uint16        u2\n",
       "4        int32        i4\n",
       "5       uint32        u4\n",
       "6        int64        i8\n",
       "7       uint64        u8\n",
       "8      float16        f2\n",
       "9      float32   f4 or f\n",
       "10     float64   f8 or d\n",
       "11    float128  f16 or g\n",
       "12   complex64        c8\n",
       "13  complex128       c16\n",
       "14        bool          \n",
       "15      object         O\n",
       "16     string_         S\n",
       "17    unicode_         U"
      ]
     },
     "execution_count": 9,
     "metadata": {},
     "output_type": "execute_result"
    }
   ],
   "source": [
    "# Вивід таблиці відповідності кодів типів даних в NumPy\n",
    "import pandas as pd\n",
    "dtypes = pd.DataFrame(\n",
    "    {\n",
    "        'Type': ['int8', 'uint8', 'int16', 'uint16', 'int32', 'uint32', 'int64', 'uint64', 'float16', 'float32', 'float64', 'float128', 'complex64', 'complex128', 'bool', 'object', 'string_', 'unicode_'],\n",
    "        'Type Code': ['i1', 'u1', 'i2', 'u2', 'i4', 'u4', 'i8', 'u8', 'f2', 'f4 or f', 'f8 or d', 'f16 or g', 'c8', 'c16', '', 'O', 'S', 'U']\n",
    "    }\n",
    ")\n",
    "\n",
    "dtypes"
   ]
  },
  {
   "cell_type": "markdown",
   "id": "033f297c",
   "metadata": {
    "heading_collapsed": true
   },
   "source": [
    "## 1. Створення та інспектування _np-массивів_"
   ]
  },
  {
   "cell_type": "markdown",
   "id": "a355eb26",
   "metadata": {
    "hidden": true
   },
   "source": [
    "### ПРИКЛАДИ"
   ]
  },
  {
   "cell_type": "code",
   "execution_count": 10,
   "id": "ad005f08",
   "metadata": {
    "hidden": true
   },
   "outputs": [],
   "source": [
    "# Створити 1-вимірний масив з 5 цілочисельних елементів \n",
    "arr = np.array([23, 42, 13, 7, 0])"
   ]
  },
  {
   "cell_type": "code",
   "execution_count": 11,
   "id": "223b11eb",
   "metadata": {
    "hidden": true
   },
   "outputs": [
    {
     "name": "stdout",
     "output_type": "stream",
     "text": [
      "class:  ndarray\n",
      "shape:  (5,)\n",
      "strides:  (4,)\n",
      "itemsize:  4\n",
      "aligned:  True\n",
      "contiguous:  True\n",
      "fortran:  True\n",
      "data pointer: 0x4082d08\n",
      "byteorder:  little\n",
      "byteswap:  False\n",
      "type: int32\n"
     ]
    }
   ],
   "source": [
    "# Інспектування массива\n",
    "np.info(arr)"
   ]
  },
  {
   "cell_type": "code",
   "execution_count": 12,
   "id": "be71cde5",
   "metadata": {
    "hidden": true
   },
   "outputs": [
    {
     "name": "stdout",
     "output_type": "stream",
     "text": [
      "[[1 2 3]\n",
      " [4 5 6]]\n"
     ]
    }
   ],
   "source": [
    "# створити 2-мірний масив з цілим типом даних у 2-х байтовому форматі\n",
    "arr = np.array([[1,2,3], [4,5,6]], dtype='i2')\n",
    "print(arr)"
   ]
  },
  {
   "cell_type": "code",
   "execution_count": 13,
   "id": "069cfeea",
   "metadata": {
    "hidden": true
   },
   "outputs": [
    {
     "name": "stdout",
     "output_type": "stream",
     "text": [
      "[ 0  2  4  6  8 10 12 14 16 18]\n"
     ]
    }
   ],
   "source": [
    "# створити масив із  значень в інтервалі 0 - 20 з кроком 2\n",
    "# np.arange(start, stop, step)\n",
    "arr = np.arange(0, 20, 2)  \n",
    "print(arr)"
   ]
  },
  {
   "cell_type": "code",
   "execution_count": 14,
   "id": "bca6baaa",
   "metadata": {
    "hidden": true
   },
   "outputs": [
    {
     "name": "stdout",
     "output_type": "stream",
     "text": [
      "[ 0.          0.52631579  1.05263158  1.57894737  2.10526316  2.63157895\n",
      "  3.15789474  3.68421053  4.21052632  4.73684211  5.26315789  5.78947368\n",
      "  6.31578947  6.84210526  7.36842105  7.89473684  8.42105263  8.94736842\n",
      "  9.47368421 10.        ]\n"
     ]
    }
   ],
   "source": [
    "# створити масив із 20 рівномірно розміщених значень в інтервалі 0 - 10 \n",
    "# np.linspace(start, stop, num_of_elements) \n",
    "arr = np.linspace(0, 10, 20)\n",
    "print(arr)"
   ]
  },
  {
   "cell_type": "code",
   "execution_count": 15,
   "id": "d4531bf7",
   "metadata": {
    "hidden": true
   },
   "outputs": [
    {
     "name": "stdout",
     "output_type": "stream",
     "text": [
      "[[0.97648772 0.10139439 0.18055815]\n",
      " [0.34647233 0.37522615 0.4583403 ]\n",
      " [0.35718393 0.93490396 0.43905176]]\n"
     ]
    }
   ],
   "source": [
    "# створити масив 3х3 випадкових значень \n",
    "arr = np.random.rand(3, 3)\n",
    "print(arr)"
   ]
  },
  {
   "cell_type": "code",
   "execution_count": 16,
   "id": "bfcfaf8d",
   "metadata": {
    "hidden": true
   },
   "outputs": [
    {
     "name": "stdout",
     "output_type": "stream",
     "text": [
      "[[0 0 0]\n",
      " [0 0 0]]\n",
      "[[1. 1. 1.]\n",
      " [1. 1. 1.]]\n",
      "[[123 123 123]\n",
      " [123 123 123]]\n"
     ]
    }
   ],
   "source": [
    "# створення нульвих, одиничних та заповнених масивів\n",
    "zeros = np.zeros((2,3), dtype='i4')\n",
    "print(zeros)\n",
    "ones = np.ones((2,3))\n",
    "print(ones)\n",
    "filled = np.full((2,3), 123)\n",
    "print(filled)"
   ]
  },
  {
   "cell_type": "code",
   "execution_count": 17,
   "id": "c2602c56",
   "metadata": {
    "hidden": true,
    "scrolled": true
   },
   "outputs": [
    {
     "name": "stdout",
     "output_type": "stream",
     "text": [
      "[[0.97648772 0.10139439 0.18055815]\n",
      " [0.34647233 0.37522615 0.4583403 ]\n",
      " [0.35718393 0.93490396 0.43905176]]\n",
      "...\n",
      "float64\n",
      "(3, 3)\n",
      "3\n",
      "2\n",
      "9\n",
      "8\n",
      "72\n"
     ]
    }
   ],
   "source": [
    "print(arr, end=\"\\n...\\n\")\n",
    "# інспектування типу массиву `dtype`\n",
    "print(arr.dtype)\n",
    "# інспектування розмірності массиву `shape`\n",
    "print(arr.shape)\n",
    "# інспектування довжини масиву `len`\n",
    "print(len(arr))\n",
    "# інспектування кількості вимірів масиву `ndim`\n",
    "print(arr.ndim)\n",
    "# інспектування кількості елементів в масиві `size`\n",
    "print(arr.size)\n",
    "# інспектування коількості байтів на елемент `itemsize`\n",
    "print(arr.itemsize)\n",
    "# інспектування кількості пам'яти під масив `nbytes`\n",
    "print(arr.nbytes)"
   ]
  },
  {
   "cell_type": "code",
   "execution_count": 18,
   "id": "042b3daf",
   "metadata": {
    "hidden": true
   },
   "outputs": [
    {
     "data": {
      "text/plain": [
       "128"
      ]
     },
     "execution_count": 18,
     "metadata": {},
     "output_type": "execute_result"
    }
   ],
   "source": [
    "arr.__sizeof__()"
   ]
  },
  {
   "cell_type": "markdown",
   "id": "4953e355",
   "metadata": {
    "hidden": true
   },
   "source": [
    "### ЗАВДАННЯ 1"
   ]
  },
  {
   "cell_type": "code",
   "execution_count": 20,
   "id": "7cadc1c0",
   "metadata": {
    "hidden": true
   },
   "outputs": [
    {
     "name": "stdout",
     "output_type": "stream",
     "text": [
      "class:  ndarray\n",
      "shape:  (4,)\n",
      "strides:  (8,)\n",
      "itemsize:  8\n",
      "aligned:  True\n",
      "contiguous:  True\n",
      "fortran:  True\n",
      "data pointer: 0x3ff05e8\n",
      "byteorder:  little\n",
      "byteswap:  False\n",
      "type: float64\n",
      "[[12.26056545 51.75123466 40.81170346 26.04837055]\n",
      " [53.32127641 64.94141167 13.35920937 45.5584586 ]\n",
      " [78.59698529 47.80747398 82.71870109 83.65991003]]\n"
     ]
    }
   ],
   "source": [
    "### ЗАВДАННЯ 1.1: створити та проінспектувати масив 3х4 з ім'ям arr1_1, який містить числа з плавоючою точкою \n",
    "arr1_1 = np.random.uniform(0,100, size=(3,4))\n",
    "np.info(arr1_1[0])\n",
    "print(arr1_1)"
   ]
  },
  {
   "cell_type": "code",
   "execution_count": 21,
   "id": "3c60b406",
   "metadata": {
    "hidden": true
   },
   "outputs": [
    {
     "name": "stdout",
     "output_type": "stream",
     "text": [
      "['Я', 'уже', 'устал', 'а', 'ты?']\n"
     ]
    }
   ],
   "source": [
    "### ЗАВДАННЯ 1.2: створити одномірний масив з 5 строкових елементів\n",
    "arr1_2 = ['Я','уже','устал','а','ты?']\n",
    "print(arr1_2)"
   ]
  },
  {
   "cell_type": "code",
   "execution_count": 39,
   "id": "88d0de53",
   "metadata": {
    "hidden": true
   },
   "outputs": [
    {
     "name": "stdout",
     "output_type": "stream",
     "text": [
      "[[57.04569423 83.17949647 58.30022578 30.01907527]\n",
      " [62.74557946 98.86144799 72.19434559 95.64672241]\n",
      " [33.33773874 92.22807383 74.97366102 48.17866542]]\n"
     ]
    }
   ],
   "source": [
    "### ЗАВДАННЯ 1.3: створити одиничний масив 3х4 чисел з плаваючою точкою\n",
    "arr1_1 = np.random.uniform(0,100, (3,4))\n",
    "print(arr1_1)"
   ]
  },
  {
   "cell_type": "markdown",
   "id": "764fa688",
   "metadata": {},
   "source": [
    "## 2. Перетворення форми та типу массивів"
   ]
  },
  {
   "cell_type": "markdown",
   "id": "1c82d0ed",
   "metadata": {
    "heading_collapsed": true
   },
   "source": [
    "### ПРИКЛАДИ"
   ]
  },
  {
   "cell_type": "code",
   "execution_count": 3,
   "id": "953c93f0",
   "metadata": {
    "hidden": true,
    "scrolled": true
   },
   "outputs": [
    {
     "name": "stdout",
     "output_type": "stream",
     "text": [
      "[0 1 2 3 4 5 6 7 8 9]\n"
     ]
    }
   ],
   "source": [
    "# створити 2-мірний float-масив (2х5) з лінійного int-списка \n",
    "spisok = list(range(0,10))\n",
    "arr = np.array(spisok)\n",
    "print(arr)"
   ]
  },
  {
   "cell_type": "code",
   "execution_count": 4,
   "id": "3bb56531",
   "metadata": {
    "hidden": true
   },
   "outputs": [
    {
     "name": "stdout",
     "output_type": "stream",
     "text": [
      "[[0 1 2 3 4]\n",
      " [5 6 7 8 9]]\n",
      "int32\n"
     ]
    }
   ],
   "source": [
    "#преретворити форму масива `reshape` \n",
    "arr = arr.reshape((2,5))\n",
    "print(arr)\n",
    "print(arr.dtype)"
   ]
  },
  {
   "cell_type": "code",
   "execution_count": 5,
   "id": "07cdda37",
   "metadata": {
    "hidden": true
   },
   "outputs": [
    {
     "name": "stdout",
     "output_type": "stream",
     "text": [
      "[[0. 1. 2. 3. 4.]\n",
      " [5. 6. 7. 8. 9.]]\n",
      "float64\n"
     ]
    }
   ],
   "source": [
    "# -- 3 перетворити тип масива `astype`\n",
    "arr = arr.astype('float64')\n",
    "print(arr)\n",
    "print(arr.dtype)"
   ]
  },
  {
   "cell_type": "code",
   "execution_count": 6,
   "id": "877770f4",
   "metadata": {
    "hidden": true,
    "scrolled": true
   },
   "outputs": [
    {
     "name": "stdout",
     "output_type": "stream",
     "text": [
      "[0. 1. 2. 3. 4. 5. 6. 7. 8. 9.]\n"
     ]
    }
   ],
   "source": [
    "# 'вирівняти' 2-мірний масив\n",
    "arr = arr.flatten()\n",
    "print(arr)"
   ]
  },
  {
   "cell_type": "markdown",
   "id": "dcb3100f",
   "metadata": {
    "heading_collapsed": true
   },
   "source": [
    "### ЗАВДАННЯ 2"
   ]
  },
  {
   "cell_type": "code",
   "execution_count": 23,
   "id": "4f1638f6",
   "metadata": {
    "hidden": true
   },
   "outputs": [
    {
     "name": "stdout",
     "output_type": "stream",
     "text": [
      "[[[False False False]]\n",
      "\n",
      " [[False False False]]\n",
      "\n",
      " [[False False False]]]\n"
     ]
    }
   ],
   "source": [
    "### ЗАВДАННЯ 2.1: створити 3-мірний масив (3х1х3) логічного 'False'\n",
    "arr2_1 = np.full((3,1,3),False)\n",
    "print(arr2_1)"
   ]
  },
  {
   "cell_type": "code",
   "execution_count": 24,
   "id": "1c1012f9",
   "metadata": {
    "hidden": true
   },
   "outputs": [
    {
     "name": "stdout",
     "output_type": "stream",
     "text": [
      "[[False False False]\n",
      " [False False False]\n",
      " [False False False]]\n",
      "[[0 0 0]\n",
      " [0 0 0]\n",
      " [0 0 0]]\n"
     ]
    }
   ],
   "source": [
    "### ЗАВДАННЯ 2.2: перетворити масив arr2_1 в 2-мірний масив (3х3) типу int\n",
    "arr2_2 = arr2_1.reshape(3,3)\n",
    "print(arr2_2)\n",
    "arr2_2 = arr2_2.astype('int32')\n",
    "print(arr2_2)"
   ]
  },
  {
   "cell_type": "code",
   "execution_count": 29,
   "id": "a6d4dbf1",
   "metadata": {
    "hidden": true
   },
   "outputs": [
    {
     "name": "stdout",
     "output_type": "stream",
     "text": [
      "[[10 12 14]\n",
      " [16 18 20]]\n"
     ]
    }
   ],
   "source": [
    "### ЗАВДАННЯ 2.3: створити  2-мірний масив парних чисел в інтервалі 10-21\n",
    "arr2_3 = np.arange(10, 21, 2).reshape(2,3)\n",
    "print(arr2_3)"
   ]
  },
  {
   "cell_type": "markdown",
   "id": "d2418105",
   "metadata": {
    "heading_collapsed": true
   },
   "source": [
    "## 3. Доступ до  елементів масива"
   ]
  },
  {
   "cell_type": "markdown",
   "id": "eea944cf",
   "metadata": {
    "heading_collapsed": true,
    "hidden": true
   },
   "source": [
    "### ПРИКЛАДИ"
   ]
  },
  {
   "cell_type": "code",
   "execution_count": null,
   "id": "5ff72006",
   "metadata": {
    "hidden": true
   },
   "outputs": [],
   "source": [
    "arr = np.array([10, 6, 7, 21, 44]) \n",
    "print(arr)\n",
    "\n",
    "# 1-й елемент \n",
    "print(arr[0])\n",
    "# 3-й елемент\n",
    "print(arr[2])\n",
    "# останній елемент\n",
    "print(arr[-1])"
   ]
  },
  {
   "cell_type": "code",
   "execution_count": null,
   "id": "002a1aff",
   "metadata": {
    "hidden": true
   },
   "outputs": [],
   "source": [
    "# створити 2-мірний масив з цілих чисел з інтервалу 10-50\n",
    "arr = np.random.randint(10, 50, (4,4))\n",
    "print(arr)"
   ]
  },
  {
   "cell_type": "code",
   "execution_count": null,
   "id": "8d9a60df",
   "metadata": {
    "hidden": true
   },
   "outputs": [],
   "source": [
    "# отримати значення останнього елемента в 2 рядку\n",
    "el = arr[1, 2]\n",
    "print(el)"
   ]
  },
  {
   "cell_type": "code",
   "execution_count": null,
   "id": "6285da26",
   "metadata": {
    "hidden": true
   },
   "outputs": [],
   "source": [
    "# отримати значення останнього рядка\n",
    "vect = arr[2]\n",
    "print(vect)"
   ]
  },
  {
   "cell_type": "code",
   "execution_count": null,
   "id": "4f87fb55",
   "metadata": {
    "hidden": true
   },
   "outputs": [],
   "source": [
    "# отримати `зріз` з 1 по 2 рядок\n",
    "mat = arr[0:2]\n",
    "print(mat)"
   ]
  },
  {
   "cell_type": "code",
   "execution_count": null,
   "id": "8ae673b1",
   "metadata": {
    "hidden": true
   },
   "outputs": [],
   "source": [
    "# вилучити 2 та 3 стовбчики `arr`\n",
    "mat = arr[0:4, 1:3]\n",
    "print(mat)"
   ]
  },
  {
   "cell_type": "code",
   "execution_count": null,
   "id": "eaee80a7",
   "metadata": {
    "hidden": true
   },
   "outputs": [],
   "source": [
    "# вилучити непарні рядки `arr`\n",
    "mat = arr[0:4:2]\n",
    "print(mat)"
   ]
  },
  {
   "cell_type": "code",
   "execution_count": null,
   "id": "08a60d9d",
   "metadata": {
    "hidden": true
   },
   "outputs": [],
   "source": [
    "# фільтрувати елементи масива за умовою\n",
    "els = arr[arr > 20]\n",
    "print(els)"
   ]
  },
  {
   "cell_type": "markdown",
   "id": "972e034d",
   "metadata": {
    "heading_collapsed": true,
    "hidden": true
   },
   "source": [
    "### ЗАВДАННЯ 3"
   ]
  },
  {
   "cell_type": "code",
   "execution_count": 30,
   "id": "aab8b56e",
   "metadata": {
    "hidden": true
   },
   "outputs": [
    {
     "name": "stdout",
     "output_type": "stream",
     "text": [
      "[[48 52 81 39 97]\n",
      " [57 13 65 42 90]\n",
      " [79 41 55 17 18]\n",
      " [92 43 95 44 68]]\n"
     ]
    }
   ],
   "source": [
    "### ЗАВДАННЯ 3.1: створити масив 4х5 нормально розподілений випадкових чисел 3 інтервалу [10 - 100]\n",
    "arr3_1 = np.random.randint(10,100,size=(4,5))\n",
    "print(arr3_1)"
   ]
  },
  {
   "cell_type": "code",
   "execution_count": 33,
   "id": "ea680bc0",
   "metadata": {
    "hidden": true
   },
   "outputs": [
    {
     "name": "stdout",
     "output_type": "stream",
     "text": [
      "65\n"
     ]
    }
   ],
   "source": [
    "### ЗАВДАННЯ 3.2:  вивести 3-елемент в 2-му рядку\n",
    "el3_2 = arr3_1[1][2]\n",
    "print(el3_2)"
   ]
  },
  {
   "cell_type": "code",
   "execution_count": 34,
   "id": "72b9576d",
   "metadata": {
    "hidden": true
   },
   "outputs": [
    {
     "name": "stdout",
     "output_type": "stream",
     "text": [
      "[57 13 65 42 90]\n"
     ]
    }
   ],
   "source": [
    "### ЗАВДАННЯ 3.3:  вивести 2-й рядок масива `arr3_1`\n",
    "vect3_3 = arr3_1[1]\n",
    "print(vect3_3)"
   ]
  },
  {
   "cell_type": "code",
   "execution_count": 35,
   "id": "f5ce8562",
   "metadata": {
    "hidden": true
   },
   "outputs": [
    {
     "name": "stdout",
     "output_type": "stream",
     "text": [
      "[81 65 55 95]\n"
     ]
    }
   ],
   "source": [
    "### ЗАВДАННЯ 3.4:  вивести 3 колонку масива `arr3_1`\n",
    "vect3_4 = arr3_1[:, 2]\n",
    "print(vect3_4)"
   ]
  },
  {
   "cell_type": "code",
   "execution_count": 36,
   "id": "7cba7f34",
   "metadata": {
    "hidden": true
   },
   "outputs": [
    {
     "name": "stdout",
     "output_type": "stream",
     "text": [
      "[[13 65]\n",
      " [41 55]]\n"
     ]
    }
   ],
   "source": [
    "### ЗАВДАННЯ 3.5: вивести матрицю  з 2 та 3 рядка та 2 та 3 колонки масива `arr3_1`\n",
    "mat3_5 = arr3_1[1:3, 1:3]\n",
    "print(mat3_5)"
   ]
  },
  {
   "cell_type": "markdown",
   "id": "59ba0a73",
   "metadata": {
    "heading_collapsed": true
   },
   "source": [
    "## 4. Матричні компоненти масива"
   ]
  },
  {
   "cell_type": "markdown",
   "id": "15c89faf",
   "metadata": {
    "heading_collapsed": true,
    "hidden": true
   },
   "source": [
    "### ПРИКЛАДИ"
   ]
  },
  {
   "cell_type": "code",
   "execution_count": null,
   "id": "431f5106",
   "metadata": {
    "hidden": true
   },
   "outputs": [],
   "source": [
    "# створити одиничну матрицю розміру 3х3\n",
    "mat = np.eye(3)\n",
    "print(mat)"
   ]
  },
  {
   "cell_type": "code",
   "execution_count": null,
   "id": "62184035",
   "metadata": {
    "hidden": true
   },
   "outputs": [],
   "source": [
    "# створити матрицю із заданою диагоналлю\n",
    "mat = np.diag([1,2,3,4,5])\n",
    "print(mat)"
   ]
  },
  {
   "cell_type": "code",
   "execution_count": null,
   "id": "db16d096",
   "metadata": {
    "hidden": true
   },
   "outputs": [],
   "source": [
    "# вилучити головну діагональ матриці `diag`\n",
    "mat = np.random.rand(5,5)\n",
    "print(mat, end=\"\\n...\\n\")\n",
    "print(np.diag(mat))"
   ]
  },
  {
   "cell_type": "code",
   "execution_count": null,
   "id": "2dec7657",
   "metadata": {
    "hidden": true
   },
   "outputs": [],
   "source": [
    "# транспонувати матрицю `mat` (https://ru.wikipedia.org/wiki/Транспонированная_матрица)\n",
    "mT = np.transpose(mat)\n",
    "print(mT)"
   ]
  },
  {
   "cell_type": "code",
   "execution_count": null,
   "id": "7cec4e03",
   "metadata": {
    "hidden": true
   },
   "outputs": [],
   "source": [
    "# отримати детермінант матриці `det` (https://ru.wikipedia.org/wiki/Определитель)\n",
    "print(np.linalg.det(mat))"
   ]
  },
  {
   "cell_type": "code",
   "execution_count": null,
   "id": "ee8d69c7",
   "metadata": {
    "hidden": true
   },
   "outputs": [],
   "source": [
    "# отримати зворотню матриці `det` (https://ru.wikipedia.org/wiki/Обратная_матрица)\n",
    "invM = np.linalg.inv(mat)\n",
    "print(invM)"
   ]
  },
  {
   "cell_type": "markdown",
   "id": "ba00d798",
   "metadata": {
    "heading_collapsed": true,
    "hidden": true
   },
   "source": [
    "### ЗАВАДАННЯ 4"
   ]
  },
  {
   "cell_type": "code",
   "execution_count": 38,
   "id": "d5aa7c9e",
   "metadata": {
    "hidden": true
   },
   "outputs": [
    {
     "name": "stdout",
     "output_type": "stream",
     "text": [
      "[[188 194 187 165 122 100]\n",
      " [138 152 138 125 181 188]\n",
      " [155 118 166 126 123 129]\n",
      " [199 189 167 110 123 163]\n",
      " [193 126 124 107 142 110]\n",
      " [149 159 189 189 174 165]]\n"
     ]
    }
   ],
   "source": [
    "# ЗАВДАННЯ 4.1: створити квадратну матрицю з 36 рівномірно розподілених цілих \n",
    "# елементів з інтервалу 100 - 200\n",
    "mat4_1 = np.random.randint(100,200,(6,6))\n",
    "print(mat4_1)"
   ]
  },
  {
   "cell_type": "code",
   "execution_count": 40,
   "id": "447a05c2",
   "metadata": {
    "hidden": true
   },
   "outputs": [
    {
     "name": "stdout",
     "output_type": "stream",
     "text": [
      "[188 152 166 110 142 165]\n"
     ]
    }
   ],
   "source": [
    "# ЗАВДАННЯ 4.2: вивести головну діагональ матниці `mat4_1`\n",
    "diag4_2 = np.diag(mat4_1)\n",
    "print(diag4_2)"
   ]
  },
  {
   "cell_type": "code",
   "execution_count": 41,
   "id": "003c3c8b",
   "metadata": {
    "hidden": true
   },
   "outputs": [
    {
     "name": "stdout",
     "output_type": "stream",
     "text": [
      "[[188 138 155 199 193 149]\n",
      " [194 152 118 189 126 159]\n",
      " [187 138 166 167 124 189]\n",
      " [165 125 126 110 107 189]\n",
      " [122 181 123 123 142 174]\n",
      " [100 188 129 163 110 165]]\n"
     ]
    }
   ],
   "source": [
    "# ЗАВДАННЯ 4.3: транспонувати матрицю 'mat4_1'\n",
    "trans4_3 = np.transpose(mat4_1)\n",
    "print(trans4_3)"
   ]
  },
  {
   "cell_type": "code",
   "execution_count": null,
   "id": "0d05994a",
   "metadata": {
    "hidden": true
   },
   "outputs": [],
   "source": [
    "# ЗАВДАННЯ 4.4: вирахувати зворотню до 'mat4_1' матрицю \n",
    "inv4_4 = np.linalg.inv(mat4_1)\n",
    "print(inv4_4)"
   ]
  },
  {
   "cell_type": "markdown",
   "id": "836e63ef",
   "metadata": {
    "heading_collapsed": true
   },
   "source": [
    "## 5. Операції над масивами"
   ]
  },
  {
   "cell_type": "markdown",
   "id": "d1ed164b",
   "metadata": {
    "heading_collapsed": true,
    "hidden": true
   },
   "source": [
    "### ПРИКЛАДИ"
   ]
  },
  {
   "cell_type": "code",
   "execution_count": null,
   "id": "526be685",
   "metadata": {
    "hidden": true
   },
   "outputs": [],
   "source": [
    "# задати вектор з 10 елементів\n",
    "vect = np.array([1, 3, 2, -3, 5, 0])"
   ]
  },
  {
   "cell_type": "code",
   "execution_count": null,
   "id": "841d8832",
   "metadata": {
    "hidden": true
   },
   "outputs": [],
   "source": [
    "# вирахувати суму елеметнів\n",
    "s = np.sum(vect)\n",
    "\n",
    "# знайти мінімальний ел-т\n",
    "m = np.min(vect)\n",
    "\n",
    "# відсортувати вектор по зростанню\n",
    "vs = np.sort(vect)\n",
    "\n",
    "# знайти середнє значення\n",
    "mid = np.average(vect)\n",
    "..."
   ]
  },
  {
   "cell_type": "code",
   "execution_count": null,
   "id": "e93a77e7",
   "metadata": {
    "hidden": true
   },
   "outputs": [],
   "source": [
    "# матриця 3х4 сконструйована різними методами\n",
    "mat = np.array([np.arange(1,4), [-2, 4, 6], np.full(3,77)])\n",
    "print(mat)"
   ]
  },
  {
   "cell_type": "code",
   "execution_count": null,
   "id": "12515cb2",
   "metadata": {
    "hidden": true
   },
   "outputs": [],
   "source": [
    "# сума по колонкам `axis=0`\n",
    "s = np.sum(mat, axis=0)\n",
    "print(s)"
   ]
  },
  {
   "cell_type": "code",
   "execution_count": null,
   "id": "1f559e9d",
   "metadata": {
    "hidden": true
   },
   "outputs": [],
   "source": [
    "# мінімум по рядкам\n",
    "m = np.min(mat, axis=1)\n",
    "print(m)"
   ]
  },
  {
   "cell_type": "code",
   "execution_count": null,
   "id": "d4fd582d",
   "metadata": {
    "hidden": true
   },
   "outputs": [],
   "source": [
    "# збільшити ел-ти масива вдвічі\n",
    "v2 = mat * 2\n",
    "print(v2)"
   ]
  },
  {
   "cell_type": "code",
   "execution_count": null,
   "id": "4aefcf63",
   "metadata": {
    "hidden": true
   },
   "outputs": [],
   "source": [
    "M = np.array([[1,2,3],[4,-3,6],[7,8,0]])\n",
    "N = np.array([[1,1,1],[2,2,2],[3,3,3]])\n",
    "print(M, N, sep=\"\\n\")"
   ]
  },
  {
   "cell_type": "code",
   "execution_count": null,
   "id": "c97502a9",
   "metadata": {
    "hidden": true
   },
   "outputs": [],
   "source": [
    "# перемножити елементи матриць M, N\n",
    "K = M * N\n",
    "print(K)\n",
    "# або ->\n",
    "K = np.multiply(N, M)\n",
    "print(K)"
   ]
  },
  {
   "cell_type": "code",
   "execution_count": null,
   "id": "4c6573ad",
   "metadata": {
    "hidden": true
   },
   "outputs": [],
   "source": [
    "# поелементний поділ\n",
    "K = N / M\n",
    "print(K)"
   ]
  },
  {
   "cell_type": "code",
   "execution_count": null,
   "id": "cdd63170",
   "metadata": {
    "hidden": true
   },
   "outputs": [],
   "source": [
    "# скалярне множення матриць (https://ru.wikipedia.org/wiki/Умножение_матриц)\n",
    "prod = np.dot(N, M)\n",
    "print(prod)"
   ]
  },
  {
   "cell_type": "code",
   "execution_count": null,
   "id": "b82fe63f",
   "metadata": {
    "hidden": true
   },
   "outputs": [],
   "source": [
    "# возвести матрицю `prod` в ступінь 3\n",
    "pmat = np.linalg.matrix_power(prod, 3)\n",
    "print(pmat)"
   ]
  },
  {
   "cell_type": "code",
   "execution_count": null,
   "id": "f953fc44",
   "metadata": {
    "hidden": true
   },
   "outputs": [],
   "source": [
    "# додати елементи до 1-вимірного масива\n",
    "mat = np.array([1,2,3])\n",
    "mat = np.append(mat, [5,6,7,8])\n",
    "print(mat)"
   ]
  },
  {
   "cell_type": "code",
   "execution_count": null,
   "id": "db3cc1b6",
   "metadata": {
    "hidden": true
   },
   "outputs": [],
   "source": [
    "# вставити елемент `4` в масив після 3-го елемента\n",
    "mat = np.insert(mat, 3, 4)\n",
    "print(mat)"
   ]
  },
  {
   "cell_type": "code",
   "execution_count": null,
   "id": "fe415a92",
   "metadata": {
    "hidden": true
   },
   "outputs": [],
   "source": [
    "# видалити елемент з індексом 6\n",
    "mat = np.delete(mat, 6)\n",
    "print(mat)"
   ]
  },
  {
   "cell_type": "code",
   "execution_count": null,
   "id": "d4aaf37b",
   "metadata": {
    "hidden": true
   },
   "outputs": [],
   "source": [
    "#  копіювання та присвоювання масивів\n",
    "M = np.random.randint(1, 10, 5 )\n",
    "print(M)\n",
    "\n",
    "# присвоїти масив `M` в `N`\n",
    "N = M\n",
    "print(N)\n",
    "print(id(M), id(N))\n",
    "\n",
    "# копіювати масив `M` в `K`\n",
    "K = np.copy(M)\n",
    "print(K)\n",
    "print(id(M), id(K))"
   ]
  },
  {
   "cell_type": "code",
   "execution_count": null,
   "id": "f4c1dea4",
   "metadata": {
    "hidden": true
   },
   "outputs": [],
   "source": [
    "# конкатенація масивів по рядкам\n",
    "arr1 = np.array([[1,2,3,4], [1,2,3,4]])\n",
    "arr2 = np.array([[5,6,7,8], [5,6,7,8]])\n",
    "arr3 = np.concatenate((arr1, arr2), axis=0)\n",
    "print(arr3)\n",
    "# по колонкам `axis = 1`\n",
    "arr4 = np.concatenate((arr1, arr2), axis=1)\n",
    "print(arr4)"
   ]
  },
  {
   "cell_type": "markdown",
   "id": "c97162c9",
   "metadata": {
    "heading_collapsed": true,
    "hidden": true
   },
   "source": [
    "### ЗАВДАННЯ 5"
   ]
  },
  {
   "cell_type": "code",
   "execution_count": 42,
   "id": "966132ea",
   "metadata": {
    "hidden": true
   },
   "outputs": [
    {
     "name": "stdout",
     "output_type": "stream",
     "text": [
      "[[87 49 94 79]\n",
      " [32 11 33 14]\n",
      " [56 17 28 93]]\n",
      "[309  90 194]\n"
     ]
    }
   ],
   "source": [
    "# ЗАВДАННЯ 5.1: просумувати по рядкам масив випадкових чисел розмірностю 3х4\n",
    "mat5_1 = np.random.randint(0,100,(3,4))\n",
    "sum_mat5_1 = np.sum(mat5_1, axis=1)\n",
    "print(mat5_1)\n",
    "print(sum_mat5_1)"
   ]
  },
  {
   "cell_type": "code",
   "execution_count": 43,
   "id": "622455c1",
   "metadata": {
    "hidden": true
   },
   "outputs": [
    {
     "name": "stdout",
     "output_type": "stream",
     "text": [
      "11\n"
     ]
    }
   ],
   "source": [
    "# ЗАВДАННЯ 5.2: знайти мінімальний елемент матриці `sum_mat5_1`\n",
    "min_mat5_1 = np.min(mat5_1)\n",
    "print(min_mat5_1)"
   ]
  },
  {
   "cell_type": "code",
   "execution_count": 44,
   "id": "31f50295",
   "metadata": {
    "hidden": true
   },
   "outputs": [
    {
     "name": "stdout",
     "output_type": "stream",
     "text": [
      "[[187 149 194 179]\n",
      " [132 111 133 114]\n",
      " [156 117 128 193]]\n"
     ]
    }
   ],
   "source": [
    "# ЗАВДАННЯ 5.3: створити масив додавши до елементів `mat5_1`  число 100\n",
    "mat5_3 = mat5_1+100\n",
    "print(mat5_3)"
   ]
  },
  {
   "cell_type": "code",
   "execution_count": 45,
   "id": "92665601",
   "metadata": {
    "hidden": true
   },
   "outputs": [
    {
     "name": "stdout",
     "output_type": "stream",
     "text": [
      "[26989 12560 24825 28231]\n"
     ]
    }
   ],
   "source": [
    "# ЗАВДАННЯ 5.4: помножити матрицю `mat5_1` на головну діагональ матриці `mat5_3`\n",
    "mat5_4 = np.dot(np.diag(mat5_3), mat5_1 )\n",
    "print(mat5_4)"
   ]
  },
  {
   "cell_type": "code",
   "execution_count": 46,
   "id": "eccfcadf",
   "metadata": {
    "hidden": true
   },
   "outputs": [
    {
     "name": "stdout",
     "output_type": "stream",
     "text": [
      "[[  187   149   194   179]\n",
      " [  132   111   133   114]\n",
      " [  156   117   128   193]\n",
      " [26989 12560 24825 28231]]\n"
     ]
    },
    {
     "data": {
      "text/plain": [
       "4"
      ]
     },
     "execution_count": 46,
     "metadata": {},
     "output_type": "execute_result"
    }
   ],
   "source": [
    "# ЗАВДАННЯ 5.5: додати справа до матриці `mat5_3` матрицю `mat5_4` \n",
    "# вивести ранг отриманої матриці\n",
    "mat5_5 = np.row_stack((mat5_3, mat5_4))\n",
    "print(mat5_5)\n",
    "np.linalg.matrix_rank(mat5_5)"
   ]
  },
  {
   "cell_type": "code",
   "execution_count": null,
   "id": "5b307804",
   "metadata": {},
   "outputs": [],
   "source": []
  }
 ],
 "metadata": {
  "kernelspec": {
   "display_name": "Python 3",
   "language": "python",
   "name": "python3"
  },
  "language_info": {
   "codemirror_mode": {
    "name": "ipython",
    "version": 3
   },
   "file_extension": ".py",
   "mimetype": "text/x-python",
   "name": "python",
   "nbconvert_exporter": "python",
   "pygments_lexer": "ipython3",
   "version": "3.8.2"
  },
  "varInspector": {
   "cols": {
    "lenName": 16,
    "lenType": 16,
    "lenVar": 40
   },
   "kernels_config": {
    "python": {
     "delete_cmd_postfix": "",
     "delete_cmd_prefix": "del ",
     "library": "var_list.py",
     "varRefreshCmd": "print(var_dic_list())"
    },
    "r": {
     "delete_cmd_postfix": ") ",
     "delete_cmd_prefix": "rm(",
     "library": "var_list.r",
     "varRefreshCmd": "cat(var_dic_list()) "
    }
   },
   "types_to_exclude": [
    "module",
    "function",
    "builtin_function_or_method",
    "instance",
    "_Feature"
   ],
   "window_display": false
  }
 },
 "nbformat": 4,
 "nbformat_minor": 5
}
